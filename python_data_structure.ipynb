{
  "nbformat": 4,
  "nbformat_minor": 0,
  "metadata": {
    "colab": {
      "provenance": []
    },
    "kernelspec": {
      "name": "python3",
      "display_name": "Python 3"
    },
    "language_info": {
      "name": "python"
    }
  },
  "cells": [
    {
      "cell_type": "markdown",
      "source": [
        "#Theory"
      ],
      "metadata": {
        "id": "r-2armWOsl3p"
      }
    },
    {
      "cell_type": "markdown",
      "source": [
        "1.  Data structure are ways of organizing and storing data so it can be accessed and modified efficiently. They are important because they determine the performance of algorithms and make it easier to manage and process large amounts of data\n",
        "\n",
        "\n",
        "2.  Mutable: can be changed after creation eg. list,dict,set.\n",
        "\n",
        "  Immutable: cannot be changed after creation eg.tuple,str,int\n",
        "\n",
        "3. List: Mutable, slower, use square brackets[ ].\n",
        "\n",
        "  Tuples: Immutable, faster,use parentheses ( ).\n",
        "\n",
        "4. Dictionaries store data as key-value pairs in a hash table, allowing fast access to values using unique keys.\n",
        "\n",
        "5.  Sets automatically remove duplicate values and allows fast membership testing, making them ideal for uniqueness checks.\n",
        "\n",
        "6.  A sting is an immutable sequence of characters, whereas a list is a mutable sequence that can store elements of any data type.\n",
        "\n",
        "7.  Because tuples are immutable, their data cannot be changed after creation, preventing accidental modification.\n",
        "\n",
        "8.  A hash table is a data structure that stores key-value pairs using a hash function for fast lookups, Python dictionaries are implemented using hash tables.\n",
        "\n",
        "9.  Yes, lists can store elements of mixed data types(eg. [\"text\", 42, 3.14}).\n",
        "\n",
        "10. Strings are immutable for security, memory efficiency, and to make them safe for use as dictionary keys.\n",
        "\n",
        "11.  Dictionaries allow fast lookups by key (O(1) time complexity) and store data in key-value form, making retrieval easier for associative data.\n",
        "\n",
        "12.  When storing fixed data such as geographical coordinates (latitude, longitude) that should not be modified,\n",
        "\n",
        "13.  Sets automatically remove duplicates- only unique elements are stored.\n",
        "\n",
        "14.  Lists: Checks if a value exists in the list's elements.\n",
        "\n",
        "  Dictionaries: Checks if a value exists among the dictionary's keys.\n",
        "\n",
        "15.  No, tuples are immutable- once created, their elements cannot be changed, added, or removed.\n",
        "\n",
        "16.  A dictionary where values are themselves dictionaries\n",
        "\n",
        "  example:\n",
        "  \n",
        "\n"
      ],
      "metadata": {
        "id": "qZu_l7Besqk3"
      }
    },
    {
      "cell_type": "code",
      "source": [
        "students ={\n",
        "    \"Alice\": {\"age\": 20, \"grade\": \"A\"},\n",
        "    \"Bob\": {\"age\": 22, \"grade\": \"B\"}\n",
        "}\n"
      ],
      "metadata": {
        "id": "6jYt_VT8yK5d"
      },
      "execution_count": 1,
      "outputs": []
    },
    {
      "cell_type": "markdown",
      "source": [
        "use case: Storing structured data.\n",
        "\n",
        "17.  Average case: O(1) due to hash table lookups\n",
        "\n",
        "  Worst case: O(n) if many hash collisions occurs.\n",
        "\n",
        "18.  When we only need to store unique values without associated data.\n",
        "\n",
        "19.  Historically, dictionaries didn't maintain insertion order. Retrieval is based on keys, not position.\n",
        "\n",
        "20.  List: Access elements by numeric index. eg. list[0]\n",
        "\n",
        "  Dictionary: Access elements by key. eg. dict[\"name\"].\n",
        "\n",
        "#PRACTICAL QUESTIONS"
      ],
      "metadata": {
        "id": "yNHt-Q4czDWH"
      }
    },
    {
      "cell_type": "code",
      "source": [
        "#1.\n",
        "name= \"Saniya Firdous\"\n",
        "print(name)\n"
      ],
      "metadata": {
        "colab": {
          "base_uri": "https://localhost:8080/"
        },
        "id": "vNBKDtrb1xs3",
        "outputId": "9052ccf3-7277-47fc-97cf-2ee97f0b085e"
      },
      "execution_count": 3,
      "outputs": [
        {
          "output_type": "stream",
          "name": "stdout",
          "text": [
            "Saniya Firdous\n"
          ]
        }
      ]
    },
    {
      "cell_type": "code",
      "source": [
        "#2.\n",
        "print(len(\"Hello World\"))"
      ],
      "metadata": {
        "colab": {
          "base_uri": "https://localhost:8080/"
        },
        "id": "m5Y2NSv-2Dxf",
        "outputId": "2dd497a4-3d55-4257-ba24-19bf18659f4e"
      },
      "execution_count": 4,
      "outputs": [
        {
          "output_type": "stream",
          "name": "stdout",
          "text": [
            "11\n"
          ]
        }
      ]
    },
    {
      "cell_type": "code",
      "source": [
        "#3.\n",
        "text= \"python programming\"\n",
        "print(text[:3])"
      ],
      "metadata": {
        "colab": {
          "base_uri": "https://localhost:8080/"
        },
        "id": "fVD1VpJQ2SAS",
        "outputId": "3d01e8c7-4fff-419f-88de-7fae64a3b189"
      },
      "execution_count": 5,
      "outputs": [
        {
          "output_type": "stream",
          "name": "stdout",
          "text": [
            "pyt\n"
          ]
        }
      ]
    },
    {
      "cell_type": "code",
      "source": [
        "#4.\n",
        "word= \"hello\"\n",
        "print(word.upper())"
      ],
      "metadata": {
        "colab": {
          "base_uri": "https://localhost:8080/"
        },
        "id": "Sh6K6a_-2dsl",
        "outputId": "da3975da-7011-4071-ac0f-b8fc62a45fde"
      },
      "execution_count": 6,
      "outputs": [
        {
          "output_type": "stream",
          "name": "stdout",
          "text": [
            "HELLO\n"
          ]
        }
      ]
    },
    {
      "cell_type": "code",
      "source": [
        "#5.\n",
        "sentence= \"I like apple\"\n",
        "print(sentence.replace(\"apple\", \"orange\"))"
      ],
      "metadata": {
        "colab": {
          "base_uri": "https://localhost:8080/"
        },
        "id": "hv0xkUEd2pFm",
        "outputId": "2fe4c74e-e376-4114-fa53-02827faa2b5d"
      },
      "execution_count": 7,
      "outputs": [
        {
          "output_type": "stream",
          "name": "stdout",
          "text": [
            "I like orange\n"
          ]
        }
      ]
    },
    {
      "cell_type": "code",
      "source": [
        "#6.\n",
        "numbers = [1,2,3,4,5]\n",
        "print(numbers)"
      ],
      "metadata": {
        "colab": {
          "base_uri": "https://localhost:8080/"
        },
        "id": "SCDfp8k13AX3",
        "outputId": "cc3c1eba-dbc2-4554-d316-b5d2eebc395a"
      },
      "execution_count": 9,
      "outputs": [
        {
          "output_type": "stream",
          "name": "stdout",
          "text": [
            "[1, 2, 3, 4, 5]\n"
          ]
        }
      ]
    },
    {
      "cell_type": "code",
      "source": [
        "#7.\n",
        "list1 = [1,2,3,4]\n",
        "list1.append(10)\n",
        "print(list1)"
      ],
      "metadata": {
        "colab": {
          "base_uri": "https://localhost:8080/"
        },
        "id": "tW7yEM6X3THM",
        "outputId": "99c40ddf-409a-4b66-80c9-e3b457ea06b9"
      },
      "execution_count": 10,
      "outputs": [
        {
          "output_type": "stream",
          "name": "stdout",
          "text": [
            "[1, 2, 3, 4, 10]\n"
          ]
        }
      ]
    },
    {
      "cell_type": "code",
      "source": [
        "#8.\n",
        "list2=[1,2,3,4,5]\n",
        "list2.remove(3)\n",
        "print(list2)"
      ],
      "metadata": {
        "colab": {
          "base_uri": "https://localhost:8080/"
        },
        "id": "RZk_lsUA3jJj",
        "outputId": "27d45950-e45c-49bd-ddc8-1b60d792e34d"
      },
      "execution_count": 11,
      "outputs": [
        {
          "output_type": "stream",
          "name": "stdout",
          "text": [
            "[1, 2, 4, 5]\n"
          ]
        }
      ]
    },
    {
      "cell_type": "code",
      "source": [
        "#9.\n",
        "chars = ['a', 'b', 'c', 'd']\n",
        "print(chars[1])"
      ],
      "metadata": {
        "colab": {
          "base_uri": "https://localhost:8080/"
        },
        "id": "vaVPNiKe3x-m",
        "outputId": "98a9542e-c4f4-4fdb-bb86-23fbb682a77d"
      },
      "execution_count": 12,
      "outputs": [
        {
          "output_type": "stream",
          "name": "stdout",
          "text": [
            "b\n"
          ]
        }
      ]
    },
    {
      "cell_type": "code",
      "source": [
        "#10.\n",
        "list3 = [10,20,30,40,50]\n",
        "list3.reverse()\n",
        "print(list3)"
      ],
      "metadata": {
        "colab": {
          "base_uri": "https://localhost:8080/"
        },
        "id": "PSM7nGEG4BaV",
        "outputId": "af99ccfd-9616-4b26-9370-5051720ed3e6"
      },
      "execution_count": 13,
      "outputs": [
        {
          "output_type": "stream",
          "name": "stdout",
          "text": [
            "[50, 40, 30, 20, 10]\n"
          ]
        }
      ]
    },
    {
      "cell_type": "code",
      "source": [
        "#11.\n",
        "t = (100, 200, 300)\n",
        "print(t)"
      ],
      "metadata": {
        "colab": {
          "base_uri": "https://localhost:8080/"
        },
        "id": "tUw3Tc2_4WS3",
        "outputId": "68bc4366-2f4c-4040-d741-3d01b42f73a1"
      },
      "execution_count": 14,
      "outputs": [
        {
          "output_type": "stream",
          "name": "stdout",
          "text": [
            "(100, 200, 300)\n"
          ]
        }
      ]
    },
    {
      "cell_type": "code",
      "source": [
        "#12.\n",
        "colors = ('red', 'green', 'blue', 'yellow')\n",
        "print(colors[-2])"
      ],
      "metadata": {
        "colab": {
          "base_uri": "https://localhost:8080/"
        },
        "id": "11TlnCc94pU-",
        "outputId": "c067c260-7910-4ce5-af47-f4984d3c1740"
      },
      "execution_count": 15,
      "outputs": [
        {
          "output_type": "stream",
          "name": "stdout",
          "text": [
            "blue\n"
          ]
        }
      ]
    },
    {
      "cell_type": "code",
      "source": [
        "#13.\n",
        "nums = (10, 20, 5, 15)\n",
        "print(min(nums))"
      ],
      "metadata": {
        "colab": {
          "base_uri": "https://localhost:8080/"
        },
        "id": "kaHEopJX48aJ",
        "outputId": "f806223e-8e8f-4ef1-e9ea-d9d81945f4b8"
      },
      "execution_count": 16,
      "outputs": [
        {
          "output_type": "stream",
          "name": "stdout",
          "text": [
            "5\n"
          ]
        }
      ]
    },
    {
      "cell_type": "code",
      "source": [
        "#14.\n",
        "animals = ('dog', 'cat', 'rabbit')\n",
        "print(animals.index('cat'))"
      ],
      "metadata": {
        "colab": {
          "base_uri": "https://localhost:8080/"
        },
        "id": "Gb4tn65M5R24",
        "outputId": "b97bfa09-97fa-4395-e27e-2955cb343308"
      },
      "execution_count": 17,
      "outputs": [
        {
          "output_type": "stream",
          "name": "stdout",
          "text": [
            "1\n"
          ]
        }
      ]
    },
    {
      "cell_type": "code",
      "source": [
        "#15.\n",
        "fruits = ('apple', 'banana', 'orange')\n",
        "print('kiwi' in fruits)"
      ],
      "metadata": {
        "colab": {
          "base_uri": "https://localhost:8080/"
        },
        "id": "_vmlK0YI5pDF",
        "outputId": "11b705c8-bfa0-4373-bf22-638a63032292"
      },
      "execution_count": 18,
      "outputs": [
        {
          "output_type": "stream",
          "name": "stdout",
          "text": [
            "False\n"
          ]
        }
      ]
    },
    {
      "cell_type": "code",
      "source": [
        "#16.\n",
        "s = {'a', 'b', 'c'}\n",
        "print(s)"
      ],
      "metadata": {
        "colab": {
          "base_uri": "https://localhost:8080/"
        },
        "id": "l50-wYPm6GAA",
        "outputId": "5826eb40-6455-4a1d-cab6-1ab88f657fe8"
      },
      "execution_count": 19,
      "outputs": [
        {
          "output_type": "stream",
          "name": "stdout",
          "text": [
            "{'b', 'c', 'a'}\n"
          ]
        }
      ]
    },
    {
      "cell_type": "code",
      "source": [
        "#17.\n",
        "s = {1,2,3,4,5}\n",
        "s.clear()\n",
        "print(s)"
      ],
      "metadata": {
        "colab": {
          "base_uri": "https://localhost:8080/"
        },
        "id": "QNxKSggS6Sw1",
        "outputId": "b8cc7a2e-a111-4cb9-9e7e-b4123dd83f03"
      },
      "execution_count": 21,
      "outputs": [
        {
          "output_type": "stream",
          "name": "stdout",
          "text": [
            "set()\n"
          ]
        }
      ]
    },
    {
      "cell_type": "code",
      "source": [
        "#18.\n",
        "s = {1,2,3,4}\n",
        "s.remove(4)\n",
        "print(s)"
      ],
      "metadata": {
        "colab": {
          "base_uri": "https://localhost:8080/"
        },
        "id": "78DalkFs6kfj",
        "outputId": "b553fe9f-413a-4bca-e1fe-40f013d03abe"
      },
      "execution_count": 22,
      "outputs": [
        {
          "output_type": "stream",
          "name": "stdout",
          "text": [
            "{1, 2, 3}\n"
          ]
        }
      ]
    },
    {
      "cell_type": "code",
      "source": [
        "#19.\n",
        "set1 = {1, 2, 3}\n",
        "set2 = (3, 4, 5)\n",
        "print(set1.intersection(set2))"
      ],
      "metadata": {
        "colab": {
          "base_uri": "https://localhost:8080/"
        },
        "id": "PmPz930D6wmX",
        "outputId": "a912aee8-f184-41b7-8a56-73b4d01fda22"
      },
      "execution_count": 25,
      "outputs": [
        {
          "output_type": "stream",
          "name": "stdout",
          "text": [
            "{3}\n"
          ]
        }
      ]
    },
    {
      "cell_type": "code",
      "source": [
        "#20.\n",
        "set1 = {1, 2, 3}\n",
        "set2 = {2, 3, 4}\n",
        "print(set1.intersection(set2))"
      ],
      "metadata": {
        "colab": {
          "base_uri": "https://localhost:8080/"
        },
        "id": "Mw0SjSKo7HAp",
        "outputId": "9f11304e-7775-474f-a736-84f89595faf7"
      },
      "execution_count": 24,
      "outputs": [
        {
          "output_type": "stream",
          "name": "stdout",
          "text": [
            "{2, 3}\n"
          ]
        }
      ]
    },
    {
      "cell_type": "code",
      "source": [
        "#21.\n",
        "d = {'name': 'john', 'age': 25,\n",
        "'city': 'New York'}\n",
        "print(d)"
      ],
      "metadata": {
        "colab": {
          "base_uri": "https://localhost:8080/"
        },
        "id": "eAcUrM4Y7uJt",
        "outputId": "41e50bf0-4495-40fb-dffb-0605230e7a81"
      },
      "execution_count": 26,
      "outputs": [
        {
          "output_type": "stream",
          "name": "stdout",
          "text": [
            "{'name': 'john', 'age': 25, 'city': 'New York'}\n"
          ]
        }
      ]
    },
    {
      "cell_type": "code",
      "source": [
        "#22.\n",
        "d = {'name': 'John', 'age': 25}\n",
        "d['country'] = 'USA'\n",
        "print(d)"
      ],
      "metadata": {
        "colab": {
          "base_uri": "https://localhost:8080/"
        },
        "id": "kWAS0zPT8gfX",
        "outputId": "fe1b6ab6-884f-4b9c-fd9e-21cf44fd12e4"
      },
      "execution_count": 27,
      "outputs": [
        {
          "output_type": "stream",
          "name": "stdout",
          "text": [
            "{'name': 'John', 'age': 25, 'country': 'USA'}\n"
          ]
        }
      ]
    },
    {
      "cell_type": "code",
      "source": [
        "#23.\n",
        "d = {'name': 'Alice', 'age': 30}\n",
        "print(d['name'])"
      ],
      "metadata": {
        "colab": {
          "base_uri": "https://localhost:8080/"
        },
        "id": "MnCmdGyX85-8",
        "outputId": "9a0807f3-ac06-43a7-a4f4-733f91d37227"
      },
      "execution_count": 28,
      "outputs": [
        {
          "output_type": "stream",
          "name": "stdout",
          "text": [
            "Alice\n"
          ]
        }
      ]
    },
    {
      "cell_type": "code",
      "source": [
        "#24.\n",
        "d = {'name': 'Bob', 'age': '22', 'city': 'New York'}\n",
        "del d['age']\n",
        "print(d)"
      ],
      "metadata": {
        "colab": {
          "base_uri": "https://localhost:8080/"
        },
        "id": "FLNPkZFi9KEv",
        "outputId": "60581e0a-26c3-4003-86bf-3d1c2729ac36"
      },
      "execution_count": 30,
      "outputs": [
        {
          "output_type": "stream",
          "name": "stdout",
          "text": [
            "{'name': 'Bob', 'city': 'New York'}\n"
          ]
        }
      ]
    },
    {
      "cell_type": "code",
      "source": [
        "#25.\n",
        "d = {'name': 'Alice', 'city': 'paris'}\n",
        "print('city' in d)"
      ],
      "metadata": {
        "colab": {
          "base_uri": "https://localhost:8080/"
        },
        "id": "0113N8Hw9eWW",
        "outputId": "81782567-47f0-4071-c35f-1ce2cb6337f8"
      },
      "execution_count": 31,
      "outputs": [
        {
          "output_type": "stream",
          "name": "stdout",
          "text": [
            "True\n"
          ]
        }
      ]
    },
    {
      "cell_type": "code",
      "source": [
        "#26.\n",
        "lst = [1, 2, 3]\n",
        "t = ('a', 'b')\n",
        "d = {'x': 10}\n",
        "print(lst, t, d)"
      ],
      "metadata": {
        "colab": {
          "base_uri": "https://localhost:8080/"
        },
        "id": "1fZZ0WRd-ly6",
        "outputId": "4ca1e6c8-fb84-4033-fa5b-189162e0add2"
      },
      "execution_count": 32,
      "outputs": [
        {
          "output_type": "stream",
          "name": "stdout",
          "text": [
            "[1, 2, 3] ('a', 'b') {'x': 10}\n"
          ]
        }
      ]
    },
    {
      "cell_type": "code",
      "source": [
        "#27.\n",
        "import random\n",
        "lst = random.sample(range(1, 101), 5)\n",
        "lst.sort()\n",
        "print(lst)"
      ],
      "metadata": {
        "colab": {
          "base_uri": "https://localhost:8080/"
        },
        "id": "SWFG-mVb-2RO",
        "outputId": "23d4fd8f-6684-4954-b2bc-3e96f7b07a2b"
      },
      "execution_count": 33,
      "outputs": [
        {
          "output_type": "stream",
          "name": "stdout",
          "text": [
            "[28, 42, 77, 84, 96]\n"
          ]
        }
      ]
    },
    {
      "cell_type": "code",
      "source": [
        "#28.\n",
        "lst = [\"apple\", \"banana\", \"cherry\", \"date\"]\n",
        "print(lst[3])"
      ],
      "metadata": {
        "colab": {
          "base_uri": "https://localhost:8080/"
        },
        "id": "Lh3VN5HP_Msz",
        "outputId": "2f3d2f22-1b85-45ac-8641-820f567e18e6"
      },
      "execution_count": 34,
      "outputs": [
        {
          "output_type": "stream",
          "name": "stdout",
          "text": [
            "date\n"
          ]
        }
      ]
    },
    {
      "cell_type": "code",
      "source": [
        "d1 = {'a': 1, 'b': 2}\n",
        "d2 = {'c': 3, 'd': 4}\n",
        "d1.update(d2)\n",
        "print(d1)"
      ],
      "metadata": {
        "colab": {
          "base_uri": "https://localhost:8080/"
        },
        "id": "0vmLhGhT_h9V",
        "outputId": "5054d173-8527-4753-a46f-70e1294db96a"
      },
      "execution_count": 35,
      "outputs": [
        {
          "output_type": "stream",
          "name": "stdout",
          "text": [
            "{'a': 1, 'b': 2, 'c': 3, 'd': 4}\n"
          ]
        }
      ]
    },
    {
      "cell_type": "code",
      "source": [
        "#30.\n",
        "lst = ['apple', 'banana', 'cherry']\n",
        "print(set(lst))"
      ],
      "metadata": {
        "colab": {
          "base_uri": "https://localhost:8080/"
        },
        "id": "svxxSnXu_4Gt",
        "outputId": "aa085356-2b2b-4487-9808-c1950fa8900d"
      },
      "execution_count": 36,
      "outputs": [
        {
          "output_type": "stream",
          "name": "stdout",
          "text": [
            "{'apple', 'cherry', 'banana'}\n"
          ]
        }
      ]
    }
  ]
}